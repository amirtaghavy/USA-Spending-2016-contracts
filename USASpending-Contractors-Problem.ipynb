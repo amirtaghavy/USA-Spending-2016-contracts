{
 "cells": [
  {
   "cell_type": "markdown",
   "id": "4484a388",
   "metadata": {},
   "source": [
    "# USA Spending Problem: Number of Distinct US Contractors\n",
    "\n",
    "### Objective:\n",
    "- Finding the number of distinct contractors awarded contracts by US Agencies in Year 2016\n",
    "\n",
    "### Disclaimer: \n",
    " - All the data for this problem was acquired from the [USA Spending Download Center](https://www.usaspending.gov/download_center/award_data_archive). \n",
    " - This work was done by *Amir A. Taghavey* as a practice problem prior to the full interview with **Tamr** on Wed. 7/21/21."
   ]
  },
  {
   "cell_type": "markdown",
   "id": "da99318c",
   "metadata": {},
   "source": [
    "### Importing / installing the required libraries (just in case):"
   ]
  },
  {
   "cell_type": "code",
   "execution_count": 6,
   "id": "5ac45c42",
   "metadata": {},
   "outputs": [],
   "source": [
    "# ! pip install pathlib"
   ]
  },
  {
   "cell_type": "code",
   "execution_count": 39,
   "id": "f82fd98f",
   "metadata": {},
   "outputs": [],
   "source": [
    "# importing the necessary libraries:\n",
    "from zipfile import ZipFile\n",
    "from pathlib import Path\n",
    "import dill\n",
    "\n",
    "import pandas as pd\n",
    "import re"
   ]
  },
  {
   "cell_type": "markdown",
   "id": "84c1c397",
   "metadata": {},
   "source": [
    "### Unzipping *.csv files and merging data tables into one pandas dataframe"
   ]
  },
  {
   "cell_type": "code",
   "execution_count": null,
   "id": "4b66d52a",
   "metadata": {},
   "outputs": [],
   "source": [
    "# %%time\n",
    "# try:\n",
    "#     # Loading the USA Spent 2016 data from file (if exists):\n",
    "#     with open('df-USASepnt-2016.pkd', 'rb') as f:\n",
    "#         all_csvs = dill.load(f)\n",
    "# except:\n",
    "#     with ZipFile('FY2016_All_Contracts_Full_20210707.zip', 'r') as usasp_2016_zip_obj:\n",
    "#         usasp_2016_zip_obj.extractall('USA-Sepnt-2016-data')\n",
    "#     files = Path('./USA-Sepnt-2016-data/').rglob('*.csv')\n",
    "#     all_csvs = [pd.read_csv(file, low_memory=False) for file in files]\n",
    "#     all_csvs = pd.concat(all_csvs)\n",
    "#     # saving a copy of the compiled USA Spending data:\n",
    "#     with open ('df-USASepnt-2016.pkd', 'wb') as f:\n",
    "#         dill.dump(all_csvs, f)"
   ]
  },
  {
   "cell_type": "code",
   "execution_count": 17,
   "id": "0ae97a05",
   "metadata": {},
   "outputs": [],
   "source": [
    "# with ZipFile('FY2016_All_Contracts_Full_20210707.zip', 'r') as usasp_2016_zip_obj:\n",
    "#     usasp_2016_zip_obj.extractall('USA-Sepnt-2016-data')"
   ]
  },
  {
   "cell_type": "code",
   "execution_count": 2,
   "id": "ab461da7",
   "metadata": {},
   "outputs": [
    {
     "data": {
      "text/plain": [
       "<generator object Path.rglob at 0x0000026FEF0034A0>"
      ]
     },
     "execution_count": 2,
     "metadata": {},
     "output_type": "execute_result"
    }
   ],
   "source": [
    "# files = Path('./USA-Sepnt-2016-data/').rglob('*.csv')\n",
    "# files"
   ]
  },
  {
   "cell_type": "code",
   "execution_count": 3,
   "id": "52853dcf",
   "metadata": {},
   "outputs": [],
   "source": [
    "# all_csvs = [pd.read_csv(file, low_memory=False) for file in files]"
   ]
  },
  {
   "cell_type": "code",
   "execution_count": 5,
   "id": "51ee5c64",
   "metadata": {},
   "outputs": [],
   "source": [
    "# all_csvs = pd.concat(all_csvs)"
   ]
  },
  {
   "cell_type": "code",
   "execution_count": 9,
   "id": "19836998",
   "metadata": {},
   "outputs": [],
   "source": [
    "# # saving a copy of the aggregated USA Spending data for 2016:\n",
    "# with open ('df-USASepnt-2016.pkd', 'wb') as f:\n",
    "#     dill.dump(all_csvs, f)"
   ]
  },
  {
   "cell_type": "code",
   "execution_count": 2,
   "id": "ed67b91f",
   "metadata": {},
   "outputs": [],
   "source": [
    "# Loading the USA Spent 2016 data from file:\n",
    "with open('df-USASepnt-2016.pkd', 'rb') as f:\n",
    "    all_csvs = dill.load(f)"
   ]
  },
  {
   "cell_type": "code",
   "execution_count": 119,
   "id": "14769f50",
   "metadata": {},
   "outputs": [
    {
     "name": "stdout",
     "output_type": "stream",
     "text": [
      "<class 'pandas.core.frame.DataFrame'>\n",
      "Int64Index: 4820334 entries, 0 to 820333\n",
      "Columns: 282 entries, contract_transaction_unique_key to last_modified_date\n",
      "dtypes: float64(25), int64(2), object(255)\n",
      "memory usage: 67.9 GB\n"
     ]
    }
   ],
   "source": [
    "pd.set_option('display.memory_usage', 'deep')\n",
    "all_csvs.info()"
   ]
  },
  {
   "cell_type": "markdown",
   "id": "ae4feab6",
   "metadata": {},
   "source": [
    "## Exploring USA Spending 2016 data:\n",
    "- looking at the features and extracting the most relevant"
   ]
  },
  {
   "cell_type": "code",
   "execution_count": 98,
   "id": "c1728950",
   "metadata": {},
   "outputs": [
    {
     "data": {
      "text/plain": [
       "'contract_transaction_unique_key | contract_award_unique_key | award_id_piid | modification_number | transaction_number | parent_award_agency_id | parent_award_agency_name | parent_award_id_piid | parent_award_modification_number | federal_action_obligation | total_dollars_obligated | base_and_exercised_options_value | current_total_value_of_award | base_and_all_options_value | potential_total_valu ... nsated_officer_1_name | highly_compensated_officer_1_amount | highly_compensated_officer_2_name | highly_compensated_officer_2_amount | highly_compensated_officer_3_name | highly_compensated_officer_3_amount | highly_compensated_officer_4_name | highly_compensated_officer_4_amount | highly_compensated_officer_5_name | highly_compensated_officer_5_amount | usaspending_permalink | last_modified_date'"
      ]
     },
     "execution_count": 98,
     "metadata": {},
     "output_type": "execute_result"
    }
   ],
   "source": [
    "# retrieving all the feature names from the dataframe\n",
    "cols = ' | '.join(all_csvs.columns)\n",
    "cols[:400]+' ... '+cols[-400:] "
   ]
  },
  {
   "cell_type": "code",
   "execution_count": 24,
   "id": "d88eacb0",
   "metadata": {},
   "outputs": [
    {
     "data": {
      "text/plain": [
       "(4820334, 282)"
      ]
     },
     "execution_count": 24,
     "metadata": {},
     "output_type": "execute_result"
    }
   ],
   "source": [
    "all_csvs.shape"
   ]
  },
  {
   "cell_type": "code",
   "execution_count": 249,
   "id": "51429cd7",
   "metadata": {},
   "outputs": [
    {
     "data": {
      "text/plain": [
       "array(['DELIVERY ORDER', 'BPA CALL', 'PURCHASE ORDER',\n",
       "       'DEFINITIVE CONTRACT', nan], dtype=object)"
      ]
     },
     "execution_count": 249,
     "metadata": {},
     "output_type": "execute_result"
    }
   ],
   "source": [
    "all_csvs['award_type'].unique()"
   ]
  },
  {
   "cell_type": "code",
   "execution_count": 250,
   "id": "334610e5",
   "metadata": {},
   "outputs": [
    {
     "data": {
      "text/plain": [
       "array(['FUNDING ONLY ACTION', 'OTHER ADMINISTRATIVE ACTION', nan,\n",
       "       'SUPPLEMENTAL AGREEMENT FOR WORK WITHIN SCOPE', 'CLOSE OUT',\n",
       "       'EXERCISE AN OPTION', 'CHANGE ORDER',\n",
       "       'ADDITIONAL WORK (NEW AGREEMENT,FAR PART 6 APPLIES)',\n",
       "       'DEFINITIZE LETTER CONTRACT',\n",
       "       'TERMINATE FOR CONVENIENCE (COMPLETE OR PARTIAL)',\n",
       "       'DEFINITIZE CHANGE ORDER', 'LEGAL CONTRACT CANCELLATION',\n",
       "       'ADDITIONAL WORK (NEW AGREEMENT, JUSTIFICATION REQUIRED)',\n",
       "       'TRANSFER ACTION', 'CHANGE PIID', 'VENDOR ADDRESS CHANGE',\n",
       "       'TERMINATE FOR DEFAULT (COMPLETE OR PARTIAL)',\n",
       "       'NOVATION AGREEMENT', 'VENDOR DUNS OR NAME CHANGE - NON-NOVATION',\n",
       "       'TERMINATE FOR CAUSE', 'REREPRESENTATION',\n",
       "       'REREPRESENTATION OF NON-NOVATED MERGER/ACQUISITION',\n",
       "       'UNIQUE ENTITY ID (DUNS) OR LEGAL BUSINESS NAME CHANGE - NON-NOVATION',\n",
       "       'ENTITY ADDRESS CHANGE'], dtype=object)"
      ]
     },
     "execution_count": 250,
     "metadata": {},
     "output_type": "execute_result"
    }
   ],
   "source": [
    "all_csvs['action_type'].unique()"
   ]
  },
  {
   "cell_type": "code",
   "execution_count": 88,
   "id": "7551cf50",
   "metadata": {},
   "outputs": [],
   "source": [
    "'''\n",
    "Data size reduction by selecting features relating only to awardees(contractors) and the awarding agencies ...\n",
    " ea. in a separate dataframe.\n",
    "'''\n",
    "\n",
    "cols_recipient = ['contract_transaction_unique_key',\n",
    "                  'recipient_duns', 'recipient_name', 'recipient_doing_business_as_name', \n",
    "                  'recipient_parent_duns', 'recipient_parent_name', \n",
    "                  'recipient_country_code', 'recipient_country_name',\n",
    "                  'recipient_address_line_1', 'recipient_address_line_2', 'recipient_city_name',\n",
    "                  'recipient_county_name', 'recipient_state_code', 'recipient_state_name', 'recipient_zip_4_code',\n",
    "                  'recipient_congressional_district', \n",
    "                  'recipient_phone_number', 'recipient_fax_number'\n",
    "                 ]\n",
    "cols_award = ['contract_transaction_unique_key',\n",
    "              'total_dollars_obligated', 'current_total_value_of_award',\n",
    "              'contract_transaction_unique_key', 'contract_award_unique_key', 'transaction_number',\n",
    "              'awarding_agency_code', 'awarding_agency_name',\n",
    "              'parent_award_agency_id', 'parent_award_agency_name'\n",
    "              ]"
   ]
  },
  {
   "cell_type": "markdown",
   "id": "638b950e",
   "metadata": {},
   "source": [
    "- Filtering the data by (i) recipient info and (ii) award info"
   ]
  },
  {
   "cell_type": "code",
   "execution_count": 89,
   "id": "b58c131d",
   "metadata": {},
   "outputs": [],
   "source": [
    "df_recipient = all_csvs[cols_recipient].copy()"
   ]
  },
  {
   "cell_type": "code",
   "execution_count": 90,
   "id": "9144101b",
   "metadata": {},
   "outputs": [],
   "source": [
    "df_award = all_csvs[cols_award].copy()"
   ]
  },
  {
   "cell_type": "code",
   "execution_count": 91,
   "id": "474fdb92",
   "metadata": {},
   "outputs": [],
   "source": [
    "# # saving a copy og the recipient datafram:\n",
    "# with open('USA-Spent-2016-summary.pkd', 'wb') as f:\n",
    "#     dill.dump([df_recipient, df_award], f)"
   ]
  },
  {
   "cell_type": "code",
   "execution_count": 99,
   "id": "37d4ced7",
   "metadata": {},
   "outputs": [
    {
     "data": {
      "text/plain": [
       "(4820334, 0)"
      ]
     },
     "execution_count": 99,
     "metadata": {},
     "output_type": "execute_result"
    }
   ],
   "source": [
    "# verifying that contract_transaction_unique_key is the unflawed primary key of the USA Spending data\n",
    "assert(len(df_recipient.contract_transaction_unique_key.unique())==all_csvs.shape[0])\n",
    "df_recipient.contract_transaction_unique_key.nunique(), df_recipient.contract_transaction_unique_key.isna().sum()"
   ]
  },
  {
   "cell_type": "markdown",
   "id": "a66e4221",
   "metadata": {},
   "source": [
    "### Estimating the number of distinct contractors using several methods/features:"
   ]
  },
  {
   "cell_type": "code",
   "execution_count": 285,
   "id": "8122f007",
   "metadata": {},
   "outputs": [
    {
     "name": "stdout",
     "output_type": "stream",
     "text": [
      "Wall time: 1min 1s\n"
     ]
    }
   ],
   "source": [
    "%%time\n",
    "# normalizing recipient names to reduce redundancy:\n",
    "normalize_txt = lambda x: ''.join(re.split(',|\\.|_|-|the | the| of| at| ', str(x).lower().strip()))\n",
    "normalize_txt_spaced = lambda x: ''.join(re.split(',|\\.|_|-|THE | THE| OF| AT|', str(x).upper().strip()))\n",
    "normalize_txt_abbreviated = lambda x: ''.join(s[0] if len(s) > 1 else s\n",
    "                                              for s in re.split(',|\\.|_|-|THE | THE| OF| AT| ', \n",
    "                                                                str(x).upper().strip()))\n",
    "df_recipient['norm_name'] = df_recipient.recipient_name.apply(normalize_txt)\n",
    "df_recipient['norm_name_spaced'] = df_recipient.recipient_name.apply(normalize_txt_spaced)\n",
    "df_recipient['norm_name_abbv'] = df_recipient.recipient_name.apply(normalize_txt_abbreviated)"
   ]
  },
  {
   "cell_type": "code",
   "execution_count": 288,
   "id": "d6d08d4d",
   "metadata": {},
   "outputs": [],
   "source": [
    "methods_dict = {\n",
    "    'name': 'recipient_name',\n",
    "    'name_normalized': 'norm_name',\n",
    "    'name_normalized_spaced': 'norm_name_spaced',    \n",
    "    'name_abbreviated': 'norm_name_abbv',\n",
    "    'org_id': 'recipient_duns',\n",
    "    'parent_org_id': 'recipient_parent_duns',\n",
    "    'address': 'recipient_address_line_1',\n",
    "    'phone': 'recipient_phone_number',\n",
    "    'fax': 'recipient_fax_number',\n",
    "    }"
   ]
  },
  {
   "cell_type": "code",
   "execution_count": 289,
   "id": "8785d6cb",
   "metadata": {},
   "outputs": [
    {
     "name": "stdout",
     "output_type": "stream",
     "text": [
      "Wall time: 5.7 s\n"
     ]
    },
    {
     "data": {
      "text/html": [
       "<div>\n",
       "<style scoped>\n",
       "    .dataframe tbody tr th:only-of-type {\n",
       "        vertical-align: middle;\n",
       "    }\n",
       "\n",
       "    .dataframe tbody tr th {\n",
       "        vertical-align: top;\n",
       "    }\n",
       "\n",
       "    .dataframe thead th {\n",
       "        text-align: right;\n",
       "    }\n",
       "</style>\n",
       "<table border=\"1\" class=\"dataframe\">\n",
       "  <thead>\n",
       "    <tr style=\"text-align: right;\">\n",
       "      <th></th>\n",
       "      <th>method</th>\n",
       "      <th>count</th>\n",
       "      <th>num_nans</th>\n",
       "    </tr>\n",
       "  </thead>\n",
       "  <tbody>\n",
       "    <tr>\n",
       "      <th>0</th>\n",
       "      <td>name</td>\n",
       "      <td>153,463.0</td>\n",
       "      <td>93.0</td>\n",
       "    </tr>\n",
       "    <tr>\n",
       "      <th>1</th>\n",
       "      <td>name_normalized</td>\n",
       "      <td>149,322.0</td>\n",
       "      <td>0.0</td>\n",
       "    </tr>\n",
       "    <tr>\n",
       "      <th>2</th>\n",
       "      <td>name_normalized_spaced</td>\n",
       "      <td>149,845.0</td>\n",
       "      <td>0.0</td>\n",
       "    </tr>\n",
       "    <tr>\n",
       "      <th>3</th>\n",
       "      <td>name_abbreviated</td>\n",
       "      <td>52,541.0</td>\n",
       "      <td>0.0</td>\n",
       "    </tr>\n",
       "    <tr>\n",
       "      <th>4</th>\n",
       "      <td>org_id</td>\n",
       "      <td>148,030.0</td>\n",
       "      <td>1.0</td>\n",
       "    </tr>\n",
       "    <tr>\n",
       "      <th>5</th>\n",
       "      <td>parent_org_id</td>\n",
       "      <td>133,255.0</td>\n",
       "      <td>2,418.0</td>\n",
       "    </tr>\n",
       "    <tr>\n",
       "      <th>6</th>\n",
       "      <td>address</td>\n",
       "      <td>160,230.0</td>\n",
       "      <td>404.0</td>\n",
       "    </tr>\n",
       "    <tr>\n",
       "      <th>7</th>\n",
       "      <td>phone</td>\n",
       "      <td>140,400.0</td>\n",
       "      <td>269,781.0</td>\n",
       "    </tr>\n",
       "    <tr>\n",
       "      <th>8</th>\n",
       "      <td>fax</td>\n",
       "      <td>113,836.0</td>\n",
       "      <td>621,360.0</td>\n",
       "    </tr>\n",
       "  </tbody>\n",
       "</table>\n",
       "</div>"
      ],
      "text/plain": [
       "                   method     count  num_nans\n",
       "0                    name 153,463.0      93.0\n",
       "1         name_normalized 149,322.0       0.0\n",
       "2  name_normalized_spaced 149,845.0       0.0\n",
       "3        name_abbreviated  52,541.0       0.0\n",
       "4                  org_id 148,030.0       1.0\n",
       "5           parent_org_id 133,255.0   2,418.0\n",
       "6                 address 160,230.0     404.0\n",
       "7                   phone 140,400.0 269,781.0\n",
       "8                     fax 113,836.0 621,360.0"
      ]
     },
     "execution_count": 289,
     "metadata": {},
     "output_type": "execute_result"
    }
   ],
   "source": [
    "%%time\n",
    "\n",
    "estimates = [[key, df_recipient[method].nunique(), df_recipient[method].isna().sum()] \n",
    "             for key, method in methods_dict.items()]\n",
    "\n",
    "df_distict_contractor = pd.DataFrame(data=estimates, columns=['method', 'count', 'num_nans'], dtype=float)\n",
    "pd.set_option('display.float_format', '{:,}'.format)\n",
    "df_distict_contractor"
   ]
  },
  {
   "cell_type": "code",
   "execution_count": 167,
   "id": "e40a147b",
   "metadata": {},
   "outputs": [],
   "source": [
    "# pd.reset_option('all')"
   ]
  },
  {
   "cell_type": "code",
   "execution_count": 175,
   "id": "751bcf3c",
   "metadata": {},
   "outputs": [
    {
     "data": {
      "text/html": [
       "<div>\n",
       "<style scoped>\n",
       "    .dataframe tbody tr th:only-of-type {\n",
       "        vertical-align: middle;\n",
       "    }\n",
       "\n",
       "    .dataframe tbody tr th {\n",
       "        vertical-align: top;\n",
       "    }\n",
       "\n",
       "    .dataframe thead th {\n",
       "        text-align: right;\n",
       "    }\n",
       "</style>\n",
       "<table border=\"1\" class=\"dataframe\">\n",
       "  <thead>\n",
       "    <tr style=\"text-align: right;\">\n",
       "      <th></th>\n",
       "      <th>contract_award_unique_key</th>\n",
       "    </tr>\n",
       "  </thead>\n",
       "  <tbody>\n",
       "    <tr>\n",
       "      <th>431788</th>\n",
       "      <td>CONT_AWD_SPE7M916V4319_9700_-NONE-_-NONE-</td>\n",
       "    </tr>\n",
       "  </tbody>\n",
       "</table>\n",
       "</div>"
      ],
      "text/plain": [
       "                        contract_award_unique_key\n",
       "431788  CONT_AWD_SPE7M916V4319_9700_-NONE-_-NONE-"
      ]
     },
     "execution_count": 175,
     "metadata": {},
     "output_type": "execute_result"
    }
   ],
   "source": [
    "# finding the contract number for the one (1) entry missing the recipinet DUN number:\n",
    "df_award[['contract_award_unique_key']].iloc[df_recipient[df_recipient.recipient_duns.isna()].index]"
   ]
  },
  {
   "cell_type": "markdown",
   "id": "3f5b706f",
   "metadata": {},
   "source": [
    "## Additional Analysis\n",
    "\n",
    "### - Top 10 Contractors:"
   ]
  },
  {
   "cell_type": "markdown",
   "id": "06a10829",
   "metadata": {},
   "source": [
    "- Top 10 by the **number of contracts**:"
   ]
  },
  {
   "cell_type": "code",
   "execution_count": 251,
   "id": "58bf44fe",
   "metadata": {},
   "outputs": [],
   "source": [
    "''' \n",
    "the merge method proved to be very computaionally expensive, \n",
    "so I decided to select columns direcly from the all_csvs master frame.'''\n",
    "# df_merged = pd.merge(df_recipient[['contract_transaction_unique_key', 'recipient_duns', 'recipient_name']], \n",
    "#                      df_award[[]])\n",
    "selected_cols = ['contract_transaction_unique_key', \n",
    "                  'recipient_duns', 'recipient_name', 'recipient_doing_business_as_name', \n",
    "                  'recipient_parent_duns', 'recipient_parent_name', \n",
    "                  'recipient_country_name', 'recipient_city_name', 'recipient_state_name', 'recipient_zip_4_code',\n",
    "                  \n",
    "                  'total_dollars_obligated', 'current_total_value_of_award',\n",
    "                  'awarding_agency_name', 'parent_award_agency_name',\n",
    "                  'action_type'\n",
    "                  ]\n",
    "df_merged = all_csvs[selected_cols].copy()\n",
    "df_merged['norm_name_spaced'] = df_merged.recipient_name.apply(normalize_txt_space)"
   ]
  },
  {
   "cell_type": "code",
   "execution_count": 255,
   "id": "3d954bed",
   "metadata": {},
   "outputs": [],
   "source": [
    "contracts = (\n",
    "    df_merged[df_merged.action_type.isin(['FUNDING ONLY ACTION', \n",
    "                                          'SUPPLEMENTAL AGREEMENT FOR WORK WITHIN SCOPE',\n",
    "                                          'ADDITIONAL WORK (NEW AGREEMENT,FAR PART 6 APPLIES)',\n",
    "                                          'ADDITIONAL WORK (NEW AGREEMENT, JUSTIFICATION REQUIRED)',\n",
    "                                          'NOVATION AGREEMENT'])]\n",
    "             .groupby('recipient_duns')\n",
    "             .agg({'norm_name_spaced': ['min'],\n",
    "                   'contract_transaction_unique_key': ['count'],\n",
    "                   'total_dollars_obligated': ['mean', 'sum']\n",
    "                                                           })\n",
    "            )\n",
    "contracts.sort_values(by=('contract_transaction_unique_key', 'count'), ascending=False, inplace=True)\n",
    "# pd.set_option('display.float_format', '{:,}'.format)\n",
    "# pd.set_option('display.precision', 2)"
   ]
  },
  {
   "cell_type": "code",
   "execution_count": 256,
   "id": "074eda0f",
   "metadata": {},
   "outputs": [
    {
     "data": {
      "text/html": [
       "<div>\n",
       "<style scoped>\n",
       "    .dataframe tbody tr th:only-of-type {\n",
       "        vertical-align: middle;\n",
       "    }\n",
       "\n",
       "    .dataframe tbody tr th {\n",
       "        vertical-align: top;\n",
       "    }\n",
       "\n",
       "    .dataframe thead tr th {\n",
       "        text-align: left;\n",
       "    }\n",
       "\n",
       "    .dataframe thead tr:last-of-type th {\n",
       "        text-align: right;\n",
       "    }\n",
       "</style>\n",
       "<table border=\"1\" class=\"dataframe\">\n",
       "  <thead>\n",
       "    <tr>\n",
       "      <th></th>\n",
       "      <th>norm_name_spaced</th>\n",
       "      <th>contract_transaction_unique_key</th>\n",
       "      <th colspan=\"2\" halign=\"left\">total_dollars_obligated</th>\n",
       "    </tr>\n",
       "    <tr>\n",
       "      <th></th>\n",
       "      <th>min</th>\n",
       "      <th>count</th>\n",
       "      <th>mean</th>\n",
       "      <th>sum</th>\n",
       "    </tr>\n",
       "    <tr>\n",
       "      <th>recipient_duns</th>\n",
       "      <th></th>\n",
       "      <th></th>\n",
       "      <th></th>\n",
       "      <th></th>\n",
       "    </tr>\n",
       "  </thead>\n",
       "  <tbody>\n",
       "    <tr>\n",
       "      <th>123,456,787.0</th>\n",
       "      <td>MISCELLANEOUS FOREIGN AWARDEES</td>\n",
       "      <td>3780</td>\n",
       "      <td>361,663.4236603333</td>\n",
       "      <td>932,729,969.6199996</td>\n",
       "    </tr>\n",
       "    <tr>\n",
       "      <th>6,928,857.0</th>\n",
       "      <td>BOOZ ALLEN  HAMILTON INC</td>\n",
       "      <td>2952</td>\n",
       "      <td>33,917,496.85736213</td>\n",
       "      <td>36,902,236,580.81</td>\n",
       "    </tr>\n",
       "    <tr>\n",
       "      <th>968,904,698.0</th>\n",
       "      <td>CELLCO PARTNERSHIP</td>\n",
       "      <td>2371</td>\n",
       "      <td>273,807.34868852457</td>\n",
       "      <td>33,404,496.539999995</td>\n",
       "    </tr>\n",
       "    <tr>\n",
       "      <th>95,633,152.0</th>\n",
       "      <td>CALIFORNIA INSTITUTE OF TECHNOLOGY</td>\n",
       "      <td>1603</td>\n",
       "      <td>4,624,895.77</td>\n",
       "      <td>69,373,436.55</td>\n",
       "    </tr>\n",
       "    <tr>\n",
       "      <th>78,883,327.0</th>\n",
       "      <td>SCIENCE APPLICATIONS INTERNATIONAL CORPORATION</td>\n",
       "      <td>1603</td>\n",
       "      <td>78,222,549.80230743</td>\n",
       "      <td>56,946,016,256.0798</td>\n",
       "    </tr>\n",
       "    <tr>\n",
       "      <th>20,751,082.0</th>\n",
       "      <td>MCI COMMUNICATIONS SERVICES INC</td>\n",
       "      <td>1416</td>\n",
       "      <td>440,326.8476351352</td>\n",
       "      <td>65,168,373.45</td>\n",
       "    </tr>\n",
       "    <tr>\n",
       "      <th>39,860,122.0</th>\n",
       "      <td>XEROX CORPORATION</td>\n",
       "      <td>1149</td>\n",
       "      <td>97,101.00366972476</td>\n",
       "      <td>21,168,018.799999997</td>\n",
       "    </tr>\n",
       "    <tr>\n",
       "      <th>8,016,958.0</th>\n",
       "      <td>LOCKHEED MARTIN CORPORATION</td>\n",
       "      <td>1148</td>\n",
       "      <td>134,254,162.9462643</td>\n",
       "      <td>82,297,801,886.06001</td>\n",
       "    </tr>\n",
       "    <tr>\n",
       "      <th>961,530,545.0</th>\n",
       "      <td>URS FEDERAL SERVICES INC</td>\n",
       "      <td>1136</td>\n",
       "      <td>149,754,486.52452916</td>\n",
       "      <td>58,853,513,204.13996</td>\n",
       "    </tr>\n",
       "    <tr>\n",
       "      <th>85,866,580.0</th>\n",
       "      <td>TW METALS INC</td>\n",
       "      <td>1101</td>\n",
       "      <td>225.76</td>\n",
       "      <td>451.52</td>\n",
       "    </tr>\n",
       "  </tbody>\n",
       "</table>\n",
       "</div>"
      ],
      "text/plain": [
       "                                              norm_name_spaced  \\\n",
       "                                                           min   \n",
       "recipient_duns                                                   \n",
       "123,456,787.0                   MISCELLANEOUS FOREIGN AWARDEES   \n",
       "6,928,857.0                           BOOZ ALLEN  HAMILTON INC   \n",
       "968,904,698.0                               CELLCO PARTNERSHIP   \n",
       "95,633,152.0                CALIFORNIA INSTITUTE OF TECHNOLOGY   \n",
       "78,883,327.0    SCIENCE APPLICATIONS INTERNATIONAL CORPORATION   \n",
       "20,751,082.0                   MCI COMMUNICATIONS SERVICES INC   \n",
       "39,860,122.0                                 XEROX CORPORATION   \n",
       "8,016,958.0                        LOCKHEED MARTIN CORPORATION   \n",
       "961,530,545.0                         URS FEDERAL SERVICES INC   \n",
       "85,866,580.0                                     TW METALS INC   \n",
       "\n",
       "               contract_transaction_unique_key total_dollars_obligated  \\\n",
       "                                         count                    mean   \n",
       "recipient_duns                                                           \n",
       "123,456,787.0                             3780      361,663.4236603333   \n",
       "6,928,857.0                               2952     33,917,496.85736213   \n",
       "968,904,698.0                             2371     273,807.34868852457   \n",
       "95,633,152.0                              1603            4,624,895.77   \n",
       "78,883,327.0                              1603     78,222,549.80230743   \n",
       "20,751,082.0                              1416      440,326.8476351352   \n",
       "39,860,122.0                              1149      97,101.00366972476   \n",
       "8,016,958.0                               1148     134,254,162.9462643   \n",
       "961,530,545.0                             1136    149,754,486.52452916   \n",
       "85,866,580.0                              1101                  225.76   \n",
       "\n",
       "                                     \n",
       "                                sum  \n",
       "recipient_duns                       \n",
       "123,456,787.0   932,729,969.6199996  \n",
       "6,928,857.0       36,902,236,580.81  \n",
       "968,904,698.0  33,404,496.539999995  \n",
       "95,633,152.0          69,373,436.55  \n",
       "78,883,327.0    56,946,016,256.0798  \n",
       "20,751,082.0          65,168,373.45  \n",
       "39,860,122.0   21,168,018.799999997  \n",
       "8,016,958.0    82,297,801,886.06001  \n",
       "961,530,545.0  58,853,513,204.13996  \n",
       "85,866,580.0                 451.52  "
      ]
     },
     "execution_count": 256,
     "metadata": {},
     "output_type": "execute_result"
    }
   ],
   "source": [
    "contracts.head(10)"
   ]
  },
  {
   "cell_type": "markdown",
   "id": "8b381f37",
   "metadata": {},
   "source": [
    "- Top 10 by the highest **total dollar value of contracts**:"
   ]
  },
  {
   "cell_type": "code",
   "execution_count": 257,
   "id": "733a7772",
   "metadata": {},
   "outputs": [
    {
     "data": {
      "text/html": [
       "<div>\n",
       "<style scoped>\n",
       "    .dataframe tbody tr th:only-of-type {\n",
       "        vertical-align: middle;\n",
       "    }\n",
       "\n",
       "    .dataframe tbody tr th {\n",
       "        vertical-align: top;\n",
       "    }\n",
       "\n",
       "    .dataframe thead tr th {\n",
       "        text-align: left;\n",
       "    }\n",
       "\n",
       "    .dataframe thead tr:last-of-type th {\n",
       "        text-align: right;\n",
       "    }\n",
       "</style>\n",
       "<table border=\"1\" class=\"dataframe\">\n",
       "  <thead>\n",
       "    <tr>\n",
       "      <th></th>\n",
       "      <th>norm_name_spaced</th>\n",
       "      <th>contract_transaction_unique_key</th>\n",
       "      <th colspan=\"2\" halign=\"left\">total_dollars_obligated</th>\n",
       "    </tr>\n",
       "    <tr>\n",
       "      <th></th>\n",
       "      <th>min</th>\n",
       "      <th>count</th>\n",
       "      <th>mean</th>\n",
       "      <th>sum</th>\n",
       "    </tr>\n",
       "    <tr>\n",
       "      <th>recipient_duns</th>\n",
       "      <th></th>\n",
       "      <th></th>\n",
       "      <th></th>\n",
       "      <th></th>\n",
       "    </tr>\n",
       "  </thead>\n",
       "  <tbody>\n",
       "    <tr>\n",
       "      <th>14,513,647.0</th>\n",
       "      <td>BOEING COMPANY</td>\n",
       "      <td>89</td>\n",
       "      <td>18,964,707,189.69997</td>\n",
       "      <td>1,687,858,939,883.2974</td>\n",
       "    </tr>\n",
       "    <tr>\n",
       "      <th>785,627,931.0</th>\n",
       "      <td>LAWRENCE LIVERMORE NATIONAL SECURITY LIMITED L...</td>\n",
       "      <td>52</td>\n",
       "      <td>23,294,603,188.75327</td>\n",
       "      <td>1,211,319,365,815.17</td>\n",
       "    </tr>\n",
       "    <tr>\n",
       "      <th>963,737,366.0</th>\n",
       "      <td>ELECTRIC BOAT CORPORATION</td>\n",
       "      <td>447</td>\n",
       "      <td>15,442,391,119.910715</td>\n",
       "      <td>864,773,902,715.0</td>\n",
       "    </tr>\n",
       "    <tr>\n",
       "      <th>99,114,287.0</th>\n",
       "      <td>UT BATTELLE LIMITED LIABILITY COMPANY</td>\n",
       "      <td>35</td>\n",
       "      <td>21,540,013,962.270008</td>\n",
       "      <td>753,900,488,679.4503</td>\n",
       "    </tr>\n",
       "    <tr>\n",
       "      <th>32,987,476.0</th>\n",
       "      <td>BATTELLE MEMORIAL INSTITUTE</td>\n",
       "      <td>32</td>\n",
       "      <td>18,851,443,289.549995</td>\n",
       "      <td>603,246,185,265.5999</td>\n",
       "    </tr>\n",
       "    <tr>\n",
       "      <th>926,784,042.0</th>\n",
       "      <td>LOCKHEED MARTIN CORPORATION</td>\n",
       "      <td>120</td>\n",
       "      <td>7,871,236,367.295998</td>\n",
       "      <td>511,630,363,874.23987</td>\n",
       "    </tr>\n",
       "    <tr>\n",
       "      <th>126,368,257.0</th>\n",
       "      <td>BOEING COMPANY THE</td>\n",
       "      <td>151</td>\n",
       "      <td>4,599,123,391.329052</td>\n",
       "      <td>340,335,130,958.34985</td>\n",
       "    </tr>\n",
       "    <tr>\n",
       "      <th>9,214,214.0</th>\n",
       "      <td>LELAND JUNIOR STANFORD UNIVERS</td>\n",
       "      <td>74</td>\n",
       "      <td>8,841,790,405.459478</td>\n",
       "      <td>335,988,035,407.46014</td>\n",
       "    </tr>\n",
       "    <tr>\n",
       "      <th>805,603,128.0</th>\n",
       "      <td>CH2M HILL PLATEAU REMEDIATION COMPANY</td>\n",
       "      <td>44</td>\n",
       "      <td>7,094,702,048.039999</td>\n",
       "      <td>312,166,890,113.75995</td>\n",
       "    </tr>\n",
       "    <tr>\n",
       "      <th>872,978,978.0</th>\n",
       "      <td>LOCKHEED MARTIN CORPORATION</td>\n",
       "      <td>224</td>\n",
       "      <td>4,382,631,238.090398</td>\n",
       "      <td>219,131,561,904.5199</td>\n",
       "    </tr>\n",
       "  </tbody>\n",
       "</table>\n",
       "</div>"
      ],
      "text/plain": [
       "                                                 norm_name_spaced  \\\n",
       "                                                              min   \n",
       "recipient_duns                                                      \n",
       "14,513,647.0                                       BOEING COMPANY   \n",
       "785,627,931.0   LAWRENCE LIVERMORE NATIONAL SECURITY LIMITED L...   \n",
       "963,737,366.0                           ELECTRIC BOAT CORPORATION   \n",
       "99,114,287.0                UT BATTELLE LIMITED LIABILITY COMPANY   \n",
       "32,987,476.0                          BATTELLE MEMORIAL INSTITUTE   \n",
       "926,784,042.0                         LOCKHEED MARTIN CORPORATION   \n",
       "126,368,257.0                                  BOEING COMPANY THE   \n",
       "9,214,214.0                        LELAND JUNIOR STANFORD UNIVERS   \n",
       "805,603,128.0               CH2M HILL PLATEAU REMEDIATION COMPANY   \n",
       "872,978,978.0                         LOCKHEED MARTIN CORPORATION   \n",
       "\n",
       "               contract_transaction_unique_key total_dollars_obligated  \\\n",
       "                                         count                    mean   \n",
       "recipient_duns                                                           \n",
       "14,513,647.0                                89    18,964,707,189.69997   \n",
       "785,627,931.0                               52    23,294,603,188.75327   \n",
       "963,737,366.0                              447   15,442,391,119.910715   \n",
       "99,114,287.0                                35   21,540,013,962.270008   \n",
       "32,987,476.0                                32   18,851,443,289.549995   \n",
       "926,784,042.0                              120    7,871,236,367.295998   \n",
       "126,368,257.0                              151    4,599,123,391.329052   \n",
       "9,214,214.0                                 74    8,841,790,405.459478   \n",
       "805,603,128.0                               44    7,094,702,048.039999   \n",
       "872,978,978.0                              224    4,382,631,238.090398   \n",
       "\n",
       "                                       \n",
       "                                  sum  \n",
       "recipient_duns                         \n",
       "14,513,647.0   1,687,858,939,883.2974  \n",
       "785,627,931.0    1,211,319,365,815.17  \n",
       "963,737,366.0       864,773,902,715.0  \n",
       "99,114,287.0     753,900,488,679.4503  \n",
       "32,987,476.0     603,246,185,265.5999  \n",
       "926,784,042.0   511,630,363,874.23987  \n",
       "126,368,257.0   340,335,130,958.34985  \n",
       "9,214,214.0     335,988,035,407.46014  \n",
       "805,603,128.0   312,166,890,113.75995  \n",
       "872,978,978.0    219,131,561,904.5199  "
      ]
     },
     "execution_count": 257,
     "metadata": {},
     "output_type": "execute_result"
    }
   ],
   "source": [
    "contracts.sort_values(by=('total_dollars_obligated', 'sum'), ascending=False, inplace=True)\n",
    "contracts.head(10)"
   ]
  },
  {
   "cell_type": "code",
   "execution_count": 258,
   "id": "1109bfa9",
   "metadata": {
    "scrolled": true
   },
   "outputs": [
    {
     "data": {
      "text/html": [
       "<div>\n",
       "<style scoped>\n",
       "    .dataframe tbody tr th:only-of-type {\n",
       "        vertical-align: middle;\n",
       "    }\n",
       "\n",
       "    .dataframe tbody tr th {\n",
       "        vertical-align: top;\n",
       "    }\n",
       "\n",
       "    .dataframe thead th {\n",
       "        text-align: right;\n",
       "    }\n",
       "</style>\n",
       "<table border=\"1\" class=\"dataframe\">\n",
       "  <thead>\n",
       "    <tr style=\"text-align: right;\">\n",
       "      <th></th>\n",
       "      <th>contract_transaction_unique_key</th>\n",
       "      <th>recipient_duns</th>\n",
       "      <th>recipient_name</th>\n",
       "      <th>recipient_doing_business_as_name</th>\n",
       "      <th>recipient_parent_duns</th>\n",
       "      <th>recipient_parent_name</th>\n",
       "      <th>recipient_country_name</th>\n",
       "      <th>recipient_city_name</th>\n",
       "      <th>recipient_state_name</th>\n",
       "      <th>recipient_zip_4_code</th>\n",
       "      <th>total_dollars_obligated</th>\n",
       "      <th>current_total_value_of_award</th>\n",
       "      <th>awarding_agency_name</th>\n",
       "      <th>parent_award_agency_name</th>\n",
       "      <th>action_type</th>\n",
       "      <th>norm_name_spaced</th>\n",
       "    </tr>\n",
       "  </thead>\n",
       "  <tbody>\n",
       "    <tr>\n",
       "      <th>21697</th>\n",
       "      <td>9700_-NONE-_N0002412C2115_A00165_-NONE-_0</td>\n",
       "      <td>963,737,366.0</td>\n",
       "      <td>ELECTRIC BOAT CORPORATION</td>\n",
       "      <td>NaN</td>\n",
       "      <td>1,381,284.0</td>\n",
       "      <td>GENERAL DYNAMICS CORPORATION</td>\n",
       "      <td>UNITED STATES</td>\n",
       "      <td>GROTON</td>\n",
       "      <td>CONNECTICUT</td>\n",
       "      <td>063404905</td>\n",
       "      <td>17,885,611,571.0</td>\n",
       "      <td>17,894,197,942.0</td>\n",
       "      <td>DEPARTMENT OF DEFENSE (DOD)</td>\n",
       "      <td>NaN</td>\n",
       "      <td>DEFINITIZE CHANGE ORDER</td>\n",
       "      <td>ELECTRIC BOAT CORPORATION</td>\n",
       "    </tr>\n",
       "    <tr>\n",
       "      <th>21718</th>\n",
       "      <td>9700_-NONE-_N0002410C2118_A00227_-NONE-_0</td>\n",
       "      <td>963,737,366.0</td>\n",
       "      <td>ELECTRIC BOAT CORPORATION</td>\n",
       "      <td>NaN</td>\n",
       "      <td>1,381,284.0</td>\n",
       "      <td>GENERAL DYNAMICS CORPORATION</td>\n",
       "      <td>UNITED STATES</td>\n",
       "      <td>GROTON</td>\n",
       "      <td>CONNECTICUT</td>\n",
       "      <td>063404905</td>\n",
       "      <td>1,394,452,356.0</td>\n",
       "      <td>1,485,636,429.0</td>\n",
       "      <td>DEPARTMENT OF DEFENSE (DOD)</td>\n",
       "      <td>NaN</td>\n",
       "      <td>DEFINITIZE CHANGE ORDER</td>\n",
       "      <td>ELECTRIC BOAT CORPORATION</td>\n",
       "    </tr>\n",
       "    <tr>\n",
       "      <th>21732</th>\n",
       "      <td>9700_-NONE-_N0002412C2115_A00166_-NONE-_0</td>\n",
       "      <td>963,737,366.0</td>\n",
       "      <td>ELECTRIC BOAT CORPORATION</td>\n",
       "      <td>NaN</td>\n",
       "      <td>1,381,284.0</td>\n",
       "      <td>GENERAL DYNAMICS CORPORATION</td>\n",
       "      <td>UNITED STATES</td>\n",
       "      <td>GROTON</td>\n",
       "      <td>CONNECTICUT</td>\n",
       "      <td>063404905</td>\n",
       "      <td>17,885,611,571.0</td>\n",
       "      <td>17,894,197,942.0</td>\n",
       "      <td>DEPARTMENT OF DEFENSE (DOD)</td>\n",
       "      <td>NaN</td>\n",
       "      <td>DEFINITIZE CHANGE ORDER</td>\n",
       "      <td>ELECTRIC BOAT CORPORATION</td>\n",
       "    </tr>\n",
       "    <tr>\n",
       "      <th>21741</th>\n",
       "      <td>9700_-NONE-_N0002412C2115_A00167_-NONE-_0</td>\n",
       "      <td>963,737,366.0</td>\n",
       "      <td>ELECTRIC BOAT CORPORATION</td>\n",
       "      <td>NaN</td>\n",
       "      <td>1,381,284.0</td>\n",
       "      <td>GENERAL DYNAMICS CORPORATION</td>\n",
       "      <td>UNITED STATES</td>\n",
       "      <td>GROTON</td>\n",
       "      <td>CONNECTICUT</td>\n",
       "      <td>063404905</td>\n",
       "      <td>17,885,611,571.0</td>\n",
       "      <td>17,894,197,942.0</td>\n",
       "      <td>DEPARTMENT OF DEFENSE (DOD)</td>\n",
       "      <td>NaN</td>\n",
       "      <td>SUPPLEMENTAL AGREEMENT FOR WORK WITHIN SCOPE</td>\n",
       "      <td>ELECTRIC BOAT CORPORATION</td>\n",
       "    </tr>\n",
       "    <tr>\n",
       "      <th>22818</th>\n",
       "      <td>9700_-NONE-_N6278916P0052_0_-NONE-_0</td>\n",
       "      <td>963,737,366.0</td>\n",
       "      <td>ELECTRIC BOAT CORPORATION</td>\n",
       "      <td>NaN</td>\n",
       "      <td>1,381,284.0</td>\n",
       "      <td>GENERAL DYNAMICS CORPORATION</td>\n",
       "      <td>UNITED STATES</td>\n",
       "      <td>GROTON</td>\n",
       "      <td>CONNECTICUT</td>\n",
       "      <td>063404905</td>\n",
       "      <td>4,038.84</td>\n",
       "      <td>4,038.84</td>\n",
       "      <td>DEPARTMENT OF DEFENSE (DOD)</td>\n",
       "      <td>NaN</td>\n",
       "      <td>NaN</td>\n",
       "      <td>ELECTRIC BOAT CORPORATION</td>\n",
       "    </tr>\n",
       "  </tbody>\n",
       "</table>\n",
       "</div>"
      ],
      "text/plain": [
       "                 contract_transaction_unique_key  recipient_duns  \\\n",
       "21697  9700_-NONE-_N0002412C2115_A00165_-NONE-_0   963,737,366.0   \n",
       "21718  9700_-NONE-_N0002410C2118_A00227_-NONE-_0   963,737,366.0   \n",
       "21732  9700_-NONE-_N0002412C2115_A00166_-NONE-_0   963,737,366.0   \n",
       "21741  9700_-NONE-_N0002412C2115_A00167_-NONE-_0   963,737,366.0   \n",
       "22818       9700_-NONE-_N6278916P0052_0_-NONE-_0   963,737,366.0   \n",
       "\n",
       "                  recipient_name recipient_doing_business_as_name  \\\n",
       "21697  ELECTRIC BOAT CORPORATION                              NaN   \n",
       "21718  ELECTRIC BOAT CORPORATION                              NaN   \n",
       "21732  ELECTRIC BOAT CORPORATION                              NaN   \n",
       "21741  ELECTRIC BOAT CORPORATION                              NaN   \n",
       "22818  ELECTRIC BOAT CORPORATION                              NaN   \n",
       "\n",
       "       recipient_parent_duns         recipient_parent_name  \\\n",
       "21697            1,381,284.0  GENERAL DYNAMICS CORPORATION   \n",
       "21718            1,381,284.0  GENERAL DYNAMICS CORPORATION   \n",
       "21732            1,381,284.0  GENERAL DYNAMICS CORPORATION   \n",
       "21741            1,381,284.0  GENERAL DYNAMICS CORPORATION   \n",
       "22818            1,381,284.0  GENERAL DYNAMICS CORPORATION   \n",
       "\n",
       "      recipient_country_name recipient_city_name recipient_state_name  \\\n",
       "21697          UNITED STATES              GROTON          CONNECTICUT   \n",
       "21718          UNITED STATES              GROTON          CONNECTICUT   \n",
       "21732          UNITED STATES              GROTON          CONNECTICUT   \n",
       "21741          UNITED STATES              GROTON          CONNECTICUT   \n",
       "22818          UNITED STATES              GROTON          CONNECTICUT   \n",
       "\n",
       "      recipient_zip_4_code  total_dollars_obligated  \\\n",
       "21697            063404905         17,885,611,571.0   \n",
       "21718            063404905          1,394,452,356.0   \n",
       "21732            063404905         17,885,611,571.0   \n",
       "21741            063404905         17,885,611,571.0   \n",
       "22818            063404905                 4,038.84   \n",
       "\n",
       "       current_total_value_of_award         awarding_agency_name  \\\n",
       "21697              17,894,197,942.0  DEPARTMENT OF DEFENSE (DOD)   \n",
       "21718               1,485,636,429.0  DEPARTMENT OF DEFENSE (DOD)   \n",
       "21732              17,894,197,942.0  DEPARTMENT OF DEFENSE (DOD)   \n",
       "21741              17,894,197,942.0  DEPARTMENT OF DEFENSE (DOD)   \n",
       "22818                      4,038.84  DEPARTMENT OF DEFENSE (DOD)   \n",
       "\n",
       "      parent_award_agency_name                                   action_type  \\\n",
       "21697                      NaN                       DEFINITIZE CHANGE ORDER   \n",
       "21718                      NaN                       DEFINITIZE CHANGE ORDER   \n",
       "21732                      NaN                       DEFINITIZE CHANGE ORDER   \n",
       "21741                      NaN  SUPPLEMENTAL AGREEMENT FOR WORK WITHIN SCOPE   \n",
       "22818                      NaN                                           NaN   \n",
       "\n",
       "                norm_name_spaced  \n",
       "21697  ELECTRIC BOAT CORPORATION  \n",
       "21718  ELECTRIC BOAT CORPORATION  \n",
       "21732  ELECTRIC BOAT CORPORATION  \n",
       "21741  ELECTRIC BOAT CORPORATION  \n",
       "22818  ELECTRIC BOAT CORPORATION  "
      ]
     },
     "execution_count": 258,
     "metadata": {},
     "output_type": "execute_result"
    }
   ],
   "source": [
    "# Top ranking \n",
    "df_merged[(df_merged.norm_name_spaced=='ELECTRIC BOAT CORPORATION') \n",
    "          & (df_merged.current_total_value_of_award.notna())].head()"
   ]
  },
  {
   "cell_type": "markdown",
   "id": "c0e958a6",
   "metadata": {},
   "source": [
    "- Top 10 by the highest **mean contract value**:"
   ]
  },
  {
   "cell_type": "code",
   "execution_count": 259,
   "id": "5ec1cafd",
   "metadata": {},
   "outputs": [
    {
     "data": {
      "text/html": [
       "<div>\n",
       "<style scoped>\n",
       "    .dataframe tbody tr th:only-of-type {\n",
       "        vertical-align: middle;\n",
       "    }\n",
       "\n",
       "    .dataframe tbody tr th {\n",
       "        vertical-align: top;\n",
       "    }\n",
       "\n",
       "    .dataframe thead tr th {\n",
       "        text-align: left;\n",
       "    }\n",
       "\n",
       "    .dataframe thead tr:last-of-type th {\n",
       "        text-align: right;\n",
       "    }\n",
       "</style>\n",
       "<table border=\"1\" class=\"dataframe\">\n",
       "  <thead>\n",
       "    <tr>\n",
       "      <th></th>\n",
       "      <th>norm_name_spaced</th>\n",
       "      <th>contract_transaction_unique_key</th>\n",
       "      <th colspan=\"2\" halign=\"left\">total_dollars_obligated</th>\n",
       "    </tr>\n",
       "    <tr>\n",
       "      <th></th>\n",
       "      <th>min</th>\n",
       "      <th>count</th>\n",
       "      <th>mean</th>\n",
       "      <th>sum</th>\n",
       "    </tr>\n",
       "    <tr>\n",
       "      <th>recipient_duns</th>\n",
       "      <th></th>\n",
       "      <th></th>\n",
       "      <th></th>\n",
       "      <th></th>\n",
       "    </tr>\n",
       "  </thead>\n",
       "  <tbody>\n",
       "    <tr>\n",
       "      <th>7,113,228.0</th>\n",
       "      <td>SANDIA CORP</td>\n",
       "      <td>25</td>\n",
       "      <td>48,080,056,275.71999</td>\n",
       "      <td>144,240,168,827.15997</td>\n",
       "    </tr>\n",
       "    <tr>\n",
       "      <th>175,252,894.0</th>\n",
       "      <td>LOS ALAMOS NATIONAL SECURITY LIMITED LIABILITY...</td>\n",
       "      <td>55</td>\n",
       "      <td>27,426,377,514.003338</td>\n",
       "      <td>82,279,132,542.01001</td>\n",
       "    </tr>\n",
       "    <tr>\n",
       "      <th>785,627,931.0</th>\n",
       "      <td>LAWRENCE LIVERMORE NATIONAL SECURITY LIMITED L...</td>\n",
       "      <td>52</td>\n",
       "      <td>23,294,603,188.75327</td>\n",
       "      <td>1,211,319,365,815.17</td>\n",
       "    </tr>\n",
       "    <tr>\n",
       "      <th>99,114,287.0</th>\n",
       "      <td>UT BATTELLE LIMITED LIABILITY COMPANY</td>\n",
       "      <td>35</td>\n",
       "      <td>21,540,013,962.270008</td>\n",
       "      <td>753,900,488,679.4503</td>\n",
       "    </tr>\n",
       "    <tr>\n",
       "      <th>14,513,647.0</th>\n",
       "      <td>BOEING COMPANY</td>\n",
       "      <td>89</td>\n",
       "      <td>18,964,707,189.69997</td>\n",
       "      <td>1,687,858,939,883.2974</td>\n",
       "    </tr>\n",
       "    <tr>\n",
       "      <th>32,987,476.0</th>\n",
       "      <td>BATTELLE MEMORIAL INSTITUTE</td>\n",
       "      <td>32</td>\n",
       "      <td>18,851,443,289.549995</td>\n",
       "      <td>603,246,185,265.5999</td>\n",
       "    </tr>\n",
       "    <tr>\n",
       "      <th>78,390,708.0</th>\n",
       "      <td>CONSOLIDATED NUCLEAR SECURITY LLC</td>\n",
       "      <td>32</td>\n",
       "      <td>17,964,686,582.128334</td>\n",
       "      <td>107,788,119,492.77</td>\n",
       "    </tr>\n",
       "    <tr>\n",
       "      <th>963,737,366.0</th>\n",
       "      <td>ELECTRIC BOAT CORPORATION</td>\n",
       "      <td>447</td>\n",
       "      <td>15,442,391,119.910715</td>\n",
       "      <td>864,773,902,715.0</td>\n",
       "    </tr>\n",
       "    <tr>\n",
       "      <th>9,214,214.0</th>\n",
       "      <td>LELAND JUNIOR STANFORD UNIVERS</td>\n",
       "      <td>74</td>\n",
       "      <td>8,841,790,405.459478</td>\n",
       "      <td>335,988,035,407.46014</td>\n",
       "    </tr>\n",
       "    <tr>\n",
       "      <th>926,784,042.0</th>\n",
       "      <td>LOCKHEED MARTIN CORPORATION</td>\n",
       "      <td>120</td>\n",
       "      <td>7,871,236,367.295998</td>\n",
       "      <td>511,630,363,874.23987</td>\n",
       "    </tr>\n",
       "  </tbody>\n",
       "</table>\n",
       "</div>"
      ],
      "text/plain": [
       "                                                 norm_name_spaced  \\\n",
       "                                                              min   \n",
       "recipient_duns                                                      \n",
       "7,113,228.0                                           SANDIA CORP   \n",
       "175,252,894.0   LOS ALAMOS NATIONAL SECURITY LIMITED LIABILITY...   \n",
       "785,627,931.0   LAWRENCE LIVERMORE NATIONAL SECURITY LIMITED L...   \n",
       "99,114,287.0                UT BATTELLE LIMITED LIABILITY COMPANY   \n",
       "14,513,647.0                                       BOEING COMPANY   \n",
       "32,987,476.0                          BATTELLE MEMORIAL INSTITUTE   \n",
       "78,390,708.0                    CONSOLIDATED NUCLEAR SECURITY LLC   \n",
       "963,737,366.0                           ELECTRIC BOAT CORPORATION   \n",
       "9,214,214.0                        LELAND JUNIOR STANFORD UNIVERS   \n",
       "926,784,042.0                         LOCKHEED MARTIN CORPORATION   \n",
       "\n",
       "               contract_transaction_unique_key total_dollars_obligated  \\\n",
       "                                         count                    mean   \n",
       "recipient_duns                                                           \n",
       "7,113,228.0                                 25    48,080,056,275.71999   \n",
       "175,252,894.0                               55   27,426,377,514.003338   \n",
       "785,627,931.0                               52    23,294,603,188.75327   \n",
       "99,114,287.0                                35   21,540,013,962.270008   \n",
       "14,513,647.0                                89    18,964,707,189.69997   \n",
       "32,987,476.0                                32   18,851,443,289.549995   \n",
       "78,390,708.0                                32   17,964,686,582.128334   \n",
       "963,737,366.0                              447   15,442,391,119.910715   \n",
       "9,214,214.0                                 74    8,841,790,405.459478   \n",
       "926,784,042.0                              120    7,871,236,367.295998   \n",
       "\n",
       "                                       \n",
       "                                  sum  \n",
       "recipient_duns                         \n",
       "7,113,228.0     144,240,168,827.15997  \n",
       "175,252,894.0    82,279,132,542.01001  \n",
       "785,627,931.0    1,211,319,365,815.17  \n",
       "99,114,287.0     753,900,488,679.4503  \n",
       "14,513,647.0   1,687,858,939,883.2974  \n",
       "32,987,476.0     603,246,185,265.5999  \n",
       "78,390,708.0       107,788,119,492.77  \n",
       "963,737,366.0       864,773,902,715.0  \n",
       "9,214,214.0     335,988,035,407.46014  \n",
       "926,784,042.0   511,630,363,874.23987  "
      ]
     },
     "execution_count": 259,
     "metadata": {},
     "output_type": "execute_result"
    }
   ],
   "source": [
    "contracts.sort_values(by=('total_dollars_obligated', 'mean'), ascending=False, inplace=True)\n",
    "contracts.head(10)"
   ]
  },
  {
   "cell_type": "code",
   "execution_count": 260,
   "id": "fc540205",
   "metadata": {},
   "outputs": [
    {
     "data": {
      "text/plain": [
       "<AxesSubplot:xlabel='(norm_name_spaced, min)'>"
      ]
     },
     "execution_count": 260,
     "metadata": {},
     "output_type": "execute_result"
    },
    {
     "data": {
      "image/png": "[encoded data removed]",
      "text/plain": [
       "<Figure size 432x288 with 1 Axes>"
      ]
     },
     "metadata": {
      "needs_background": "light"
     },
     "output_type": "display_data"
    }
   ],
   "source": [
    "((contracts[[('norm_name_spaced', 'min'), ('total_dollars_obligated', 'mean')]]\n",
    " .head(10))\n",
    " .set_index(('norm_name_spaced', 'min'))\n",
    " .plot.bar())"
   ]
  },
  {
   "cell_type": "markdown",
   "id": "60c7b37d",
   "metadata": {},
   "source": [
    "### - Top Funding Agencies:"
   ]
  },
  {
   "cell_type": "code",
   "execution_count": 261,
   "id": "76ac471e",
   "metadata": {},
   "outputs": [],
   "source": [
    "agencies = (\n",
    "    df_merged[df_merged.action_type.isin(['FUNDING ONLY ACTION', \n",
    "                                          'SUPPLEMENTAL AGREEMENT FOR WORK WITHIN SCOPE',\n",
    "                                          'ADDITIONAL WORK (NEW AGREEMENT,FAR PART 6 APPLIES)',\n",
    "                                          'ADDITIONAL WORK (NEW AGREEMENT, JUSTIFICATION REQUIRED)',\n",
    "                                          'NOVATION AGREEMENT'])]\n",
    "    .groupby('awarding_agency_name')\n",
    "    .agg({'norm_name_spaced': ['count'],\n",
    "          'contract_transaction_unique_key': ['count'],\n",
    "          'total_dollars_obligated': ['mean', 'sum']})\n",
    "            )\n",
    "agencies.sort_values(by=('contract_transaction_unique_key', 'count'), ascending=False, inplace=True)"
   ]
  },
  {
   "cell_type": "code",
   "execution_count": 262,
   "id": "5012be94",
   "metadata": {},
   "outputs": [
    {
     "data": {
      "text/html": [
       "<div>\n",
       "<style scoped>\n",
       "    .dataframe tbody tr th:only-of-type {\n",
       "        vertical-align: middle;\n",
       "    }\n",
       "\n",
       "    .dataframe tbody tr th {\n",
       "        vertical-align: top;\n",
       "    }\n",
       "\n",
       "    .dataframe thead tr th {\n",
       "        text-align: left;\n",
       "    }\n",
       "\n",
       "    .dataframe thead tr:last-of-type th {\n",
       "        text-align: right;\n",
       "    }\n",
       "</style>\n",
       "<table border=\"1\" class=\"dataframe\">\n",
       "  <thead>\n",
       "    <tr>\n",
       "      <th></th>\n",
       "      <th>norm_name_spaced</th>\n",
       "      <th>contract_transaction_unique_key</th>\n",
       "      <th colspan=\"2\" halign=\"left\">total_dollars_obligated</th>\n",
       "    </tr>\n",
       "    <tr>\n",
       "      <th></th>\n",
       "      <th>count</th>\n",
       "      <th>count</th>\n",
       "      <th>mean</th>\n",
       "      <th>sum</th>\n",
       "    </tr>\n",
       "    <tr>\n",
       "      <th>awarding_agency_name</th>\n",
       "      <th></th>\n",
       "      <th></th>\n",
       "      <th></th>\n",
       "      <th></th>\n",
       "    </tr>\n",
       "  </thead>\n",
       "  <tbody>\n",
       "    <tr>\n",
       "      <th>DEPARTMENT OF DEFENSE (DOD)</th>\n",
       "      <td>184650</td>\n",
       "      <td>184650</td>\n",
       "      <td>90,615,510.2504425</td>\n",
       "      <td>3,341,446,940,485.0674</td>\n",
       "    </tr>\n",
       "    <tr>\n",
       "      <th>DEPARTMENT OF VETERANS AFFAIRS (VA)</th>\n",
       "      <td>32718</td>\n",
       "      <td>32718</td>\n",
       "      <td>5,672,791.124309257</td>\n",
       "      <td>19,627,857,290.110027</td>\n",
       "    </tr>\n",
       "    <tr>\n",
       "      <th>DEPARTMENT OF JUSTICE (DOJ)</th>\n",
       "      <td>31054</td>\n",
       "      <td>31054</td>\n",
       "      <td>3,510,720.9700064906</td>\n",
       "      <td>10,813,020,587.619991</td>\n",
       "    </tr>\n",
       "    <tr>\n",
       "      <th>DEPARTMENT OF HOMELAND SECURITY (DHS)</th>\n",
       "      <td>15911</td>\n",
       "      <td>15911</td>\n",
       "      <td>15,150,999.866331272</td>\n",
       "      <td>22,135,610,804.709988</td>\n",
       "    </tr>\n",
       "    <tr>\n",
       "      <th>DEPARTMENT OF THE INTERIOR (DOI)</th>\n",
       "      <td>13610</td>\n",
       "      <td>13610</td>\n",
       "      <td>8,894,098.75917818</td>\n",
       "      <td>10,930,847,375.029984</td>\n",
       "    </tr>\n",
       "    <tr>\n",
       "      <th>NATIONAL AERONAUTICS AND SPACE ADMINISTRATION (NASA)</th>\n",
       "      <td>13399</td>\n",
       "      <td>13399</td>\n",
       "      <td>730,142,003.3879246</td>\n",
       "      <td>2,713,207,684,589.528</td>\n",
       "    </tr>\n",
       "    <tr>\n",
       "      <th>DEPARTMENT OF HEALTH AND HUMAN SERVICES (HHS)</th>\n",
       "      <td>11903</td>\n",
       "      <td>11903</td>\n",
       "      <td>45,080,036.73051781</td>\n",
       "      <td>91,422,314,489.49013</td>\n",
       "    </tr>\n",
       "    <tr>\n",
       "      <th>GENERAL SERVICES ADMINISTRATION (GSA)</th>\n",
       "      <td>11319</td>\n",
       "      <td>11319</td>\n",
       "      <td>28,027,703.45750591</td>\n",
       "      <td>60,455,756,357.84025</td>\n",
       "    </tr>\n",
       "    <tr>\n",
       "      <th>DEPARTMENT OF AGRICULTURE (USDA)</th>\n",
       "      <td>9824</td>\n",
       "      <td>9824</td>\n",
       "      <td>7,676,663.128333306</td>\n",
       "      <td>13,127,093,949.449953</td>\n",
       "    </tr>\n",
       "    <tr>\n",
       "      <th>DEPARTMENT OF TRANSPORTATION (DOT)</th>\n",
       "      <td>8703</td>\n",
       "      <td>8703</td>\n",
       "      <td>30,645,706.608196996</td>\n",
       "      <td>55,070,334,774.93</td>\n",
       "    </tr>\n",
       "  </tbody>\n",
       "</table>\n",
       "</div>"
      ],
      "text/plain": [
       "                                                   norm_name_spaced  \\\n",
       "                                                              count   \n",
       "awarding_agency_name                                                  \n",
       "DEPARTMENT OF DEFENSE (DOD)                                  184650   \n",
       "DEPARTMENT OF VETERANS AFFAIRS (VA)                           32718   \n",
       "DEPARTMENT OF JUSTICE (DOJ)                                   31054   \n",
       "DEPARTMENT OF HOMELAND SECURITY (DHS)                         15911   \n",
       "DEPARTMENT OF THE INTERIOR (DOI)                              13610   \n",
       "NATIONAL AERONAUTICS AND SPACE ADMINISTRATION (...            13399   \n",
       "DEPARTMENT OF HEALTH AND HUMAN SERVICES (HHS)                 11903   \n",
       "GENERAL SERVICES ADMINISTRATION (GSA)                         11319   \n",
       "DEPARTMENT OF AGRICULTURE (USDA)                               9824   \n",
       "DEPARTMENT OF TRANSPORTATION (DOT)                             8703   \n",
       "\n",
       "                                                   contract_transaction_unique_key  \\\n",
       "                                                                             count   \n",
       "awarding_agency_name                                                                 \n",
       "DEPARTMENT OF DEFENSE (DOD)                                                 184650   \n",
       "DEPARTMENT OF VETERANS AFFAIRS (VA)                                          32718   \n",
       "DEPARTMENT OF JUSTICE (DOJ)                                                  31054   \n",
       "DEPARTMENT OF HOMELAND SECURITY (DHS)                                        15911   \n",
       "DEPARTMENT OF THE INTERIOR (DOI)                                             13610   \n",
       "NATIONAL AERONAUTICS AND SPACE ADMINISTRATION (...                           13399   \n",
       "DEPARTMENT OF HEALTH AND HUMAN SERVICES (HHS)                                11903   \n",
       "GENERAL SERVICES ADMINISTRATION (GSA)                                        11319   \n",
       "DEPARTMENT OF AGRICULTURE (USDA)                                              9824   \n",
       "DEPARTMENT OF TRANSPORTATION (DOT)                                            8703   \n",
       "\n",
       "                                                   total_dollars_obligated  \\\n",
       "                                                                      mean   \n",
       "awarding_agency_name                                                         \n",
       "DEPARTMENT OF DEFENSE (DOD)                             90,615,510.2504425   \n",
       "DEPARTMENT OF VETERANS AFFAIRS (VA)                    5,672,791.124309257   \n",
       "DEPARTMENT OF JUSTICE (DOJ)                           3,510,720.9700064906   \n",
       "DEPARTMENT OF HOMELAND SECURITY (DHS)                 15,150,999.866331272   \n",
       "DEPARTMENT OF THE INTERIOR (DOI)                        8,894,098.75917818   \n",
       "NATIONAL AERONAUTICS AND SPACE ADMINISTRATION (...     730,142,003.3879246   \n",
       "DEPARTMENT OF HEALTH AND HUMAN SERVICES (HHS)          45,080,036.73051781   \n",
       "GENERAL SERVICES ADMINISTRATION (GSA)                  28,027,703.45750591   \n",
       "DEPARTMENT OF AGRICULTURE (USDA)                       7,676,663.128333306   \n",
       "DEPARTMENT OF TRANSPORTATION (DOT)                    30,645,706.608196996   \n",
       "\n",
       "                                                                           \n",
       "                                                                      sum  \n",
       "awarding_agency_name                                                       \n",
       "DEPARTMENT OF DEFENSE (DOD)                        3,341,446,940,485.0674  \n",
       "DEPARTMENT OF VETERANS AFFAIRS (VA)                 19,627,857,290.110027  \n",
       "DEPARTMENT OF JUSTICE (DOJ)                         10,813,020,587.619991  \n",
       "DEPARTMENT OF HOMELAND SECURITY (DHS)               22,135,610,804.709988  \n",
       "DEPARTMENT OF THE INTERIOR (DOI)                    10,930,847,375.029984  \n",
       "NATIONAL AERONAUTICS AND SPACE ADMINISTRATION (...  2,713,207,684,589.528  \n",
       "DEPARTMENT OF HEALTH AND HUMAN SERVICES (HHS)        91,422,314,489.49013  \n",
       "GENERAL SERVICES ADMINISTRATION (GSA)                60,455,756,357.84025  \n",
       "DEPARTMENT OF AGRICULTURE (USDA)                    13,127,093,949.449953  \n",
       "DEPARTMENT OF TRANSPORTATION (DOT)                      55,070,334,774.93  "
      ]
     },
     "execution_count": 262,
     "metadata": {},
     "output_type": "execute_result"
    }
   ],
   "source": [
    "agencies.head(10)"
   ]
  },
  {
   "cell_type": "code",
   "execution_count": 263,
   "id": "53f5b2c3",
   "metadata": {},
   "outputs": [
    {
     "data": {
      "text/plain": [
       "<AxesSubplot:xlabel='awarding_agency_name'>"
      ]
     },
     "execution_count": 263,
     "metadata": {},
     "output_type": "execute_result"
    },
    {
     "data": {
      "image/png": "[encoded data removed]",
      "text/plain": [
       "<Figure size 432x288 with 1 Axes>"
      ]
     },
     "metadata": {
      "needs_background": "light"
     },
     "output_type": "display_data"
    }
   ],
   "source": [
    "agencies[[('norm_name_spaced', 'count')]].head(10).plot.bar()"
   ]
  },
  {
   "cell_type": "markdown",
   "id": "62ebea4b",
   "metadata": {},
   "source": [
    "### - Contracts awarded to **non-US based entities**:"
   ]
  },
  {
   "cell_type": "markdown",
   "id": "73de1df2",
   "metadata": {},
   "source": [
    "- number of countries with awarded contractors:"
   ]
  },
  {
   "cell_type": "code",
   "execution_count": 245,
   "id": "08ea3715",
   "metadata": {},
   "outputs": [
    {
     "data": {
      "text/plain": [
       "146"
      ]
     },
     "execution_count": 245,
     "metadata": {},
     "output_type": "execute_result"
    }
   ],
   "source": [
    "df_merged.recipient_country_name[(df_merged.recipient_country_name!='UNITED STATES') & \n",
    "                                 df_merged.total_dollars_obligated>0].nunique()"
   ]
  },
  {
   "cell_type": "markdown",
   "id": "ac6512ee",
   "metadata": {},
   "source": [
    "- Countries with the highest **number of awarded contracts**:"
   ]
  },
  {
   "cell_type": "code",
   "execution_count": 264,
   "id": "e29be8a5",
   "metadata": {},
   "outputs": [
    {
     "data": {
      "text/html": [
       "<div>\n",
       "<style scoped>\n",
       "    .dataframe tbody tr th:only-of-type {\n",
       "        vertical-align: middle;\n",
       "    }\n",
       "\n",
       "    .dataframe tbody tr th {\n",
       "        vertical-align: top;\n",
       "    }\n",
       "\n",
       "    .dataframe thead tr th {\n",
       "        text-align: left;\n",
       "    }\n",
       "\n",
       "    .dataframe thead tr:last-of-type th {\n",
       "        text-align: right;\n",
       "    }\n",
       "</style>\n",
       "<table border=\"1\" class=\"dataframe\">\n",
       "  <thead>\n",
       "    <tr>\n",
       "      <th></th>\n",
       "      <th>contract_transaction_unique_key</th>\n",
       "      <th colspan=\"2\" halign=\"left\">total_dollars_obligated</th>\n",
       "    </tr>\n",
       "    <tr>\n",
       "      <th></th>\n",
       "      <th>count</th>\n",
       "      <th>mean</th>\n",
       "      <th>sum</th>\n",
       "    </tr>\n",
       "    <tr>\n",
       "      <th>recipient_country_name</th>\n",
       "      <th></th>\n",
       "      <th></th>\n",
       "      <th></th>\n",
       "    </tr>\n",
       "  </thead>\n",
       "  <tbody>\n",
       "    <tr>\n",
       "      <th>JAPAN</th>\n",
       "      <td>3929</td>\n",
       "      <td>9,497,315.332606634</td>\n",
       "      <td>2,003,933,535.1799998</td>\n",
       "    </tr>\n",
       "    <tr>\n",
       "      <th>GERMANY</th>\n",
       "      <td>1786</td>\n",
       "      <td>5,603,594.8356621</td>\n",
       "      <td>1,227,187,269.01</td>\n",
       "    </tr>\n",
       "    <tr>\n",
       "      <th>KOREA, SOUTH</th>\n",
       "      <td>849</td>\n",
       "      <td>187,629,373.7493987</td>\n",
       "      <td>24,954,706,708.67003</td>\n",
       "    </tr>\n",
       "    <tr>\n",
       "      <th>CANADA</th>\n",
       "      <td>750</td>\n",
       "      <td>41,384,234.02044443</td>\n",
       "      <td>3,724,581,061.8399987</td>\n",
       "    </tr>\n",
       "    <tr>\n",
       "      <th>UNITED KINGDOM</th>\n",
       "      <td>625</td>\n",
       "      <td>619,893.583624161</td>\n",
       "      <td>92,364,143.95999998</td>\n",
       "    </tr>\n",
       "    <tr>\n",
       "      <th>ITALY</th>\n",
       "      <td>559</td>\n",
       "      <td>1,142,692.9238461538</td>\n",
       "      <td>44,565,024.029999994</td>\n",
       "    </tr>\n",
       "    <tr>\n",
       "      <th>MALTA</th>\n",
       "      <td>482</td>\n",
       "      <td>124,916.40666666666</td>\n",
       "      <td>374,749.22</td>\n",
       "    </tr>\n",
       "    <tr>\n",
       "      <th>KUWAIT</th>\n",
       "      <td>407</td>\n",
       "      <td>9,077,053.94472973</td>\n",
       "      <td>671,701,991.9100001</td>\n",
       "    </tr>\n",
       "    <tr>\n",
       "      <th>SINGAPORE</th>\n",
       "      <td>350</td>\n",
       "      <td>50,973.48818181819</td>\n",
       "      <td>1,121,416.7400000002</td>\n",
       "    </tr>\n",
       "    <tr>\n",
       "      <th>TURKEY</th>\n",
       "      <td>335</td>\n",
       "      <td>2,071,663.8007894736</td>\n",
       "      <td>78,723,224.42999999</td>\n",
       "    </tr>\n",
       "  </tbody>\n",
       "</table>\n",
       "</div>"
      ],
      "text/plain": [
       "                       contract_transaction_unique_key  \\\n",
       "                                                 count   \n",
       "recipient_country_name                                   \n",
       "JAPAN                                             3929   \n",
       "GERMANY                                           1786   \n",
       "KOREA, SOUTH                                       849   \n",
       "CANADA                                             750   \n",
       "UNITED KINGDOM                                     625   \n",
       "ITALY                                              559   \n",
       "MALTA                                              482   \n",
       "KUWAIT                                             407   \n",
       "SINGAPORE                                          350   \n",
       "TURKEY                                             335   \n",
       "\n",
       "                       total_dollars_obligated                        \n",
       "                                          mean                   sum  \n",
       "recipient_country_name                                                \n",
       "JAPAN                      9,497,315.332606634 2,003,933,535.1799998  \n",
       "GERMANY                      5,603,594.8356621      1,227,187,269.01  \n",
       "KOREA, SOUTH               187,629,373.7493987  24,954,706,708.67003  \n",
       "CANADA                     41,384,234.02044443 3,724,581,061.8399987  \n",
       "UNITED KINGDOM               619,893.583624161   92,364,143.95999998  \n",
       "ITALY                     1,142,692.9238461538  44,565,024.029999994  \n",
       "MALTA                      124,916.40666666666            374,749.22  \n",
       "KUWAIT                      9,077,053.94472973   671,701,991.9100001  \n",
       "SINGAPORE                   50,973.48818181819  1,121,416.7400000002  \n",
       "TURKEY                    2,071,663.8007894736   78,723,224.42999999  "
      ]
     },
     "execution_count": 264,
     "metadata": {},
     "output_type": "execute_result"
    }
   ],
   "source": [
    "countries = (\n",
    "    df_merged[df_merged.action_type.isin(['FUNDING ONLY ACTION', \n",
    "                                      'SUPPLEMENTAL AGREEMENT FOR WORK WITHIN SCOPE',\n",
    "                                      'ADDITIONAL WORK (NEW AGREEMENT,FAR PART 6 APPLIES)',\n",
    "                                      'ADDITIONAL WORK (NEW AGREEMENT, JUSTIFICATION REQUIRED)',\n",
    "                                      'NOVATION AGREEMENT'])]\n",
    "    .groupby('recipient_country_name')\n",
    "    .agg({'contract_transaction_unique_key': ['count'],\n",
    "          'total_dollars_obligated': ['mean', 'sum']})\n",
    "            )\n",
    "\n",
    "countries.sort_values(by=('contract_transaction_unique_key', 'count'), ascending=False, inplace=True)\n",
    "countries[countries.index!='UNITED STATES'].head(10)"
   ]
  },
  {
   "cell_type": "markdown",
   "id": "1a64ccf8",
   "metadata": {},
   "source": [
    "- Countries with the highest **dollar value of contracts**:"
   ]
  },
  {
   "cell_type": "code",
   "execution_count": 265,
   "id": "c33427c8",
   "metadata": {},
   "outputs": [
    {
     "data": {
      "text/html": [
       "<div>\n",
       "<style scoped>\n",
       "    .dataframe tbody tr th:only-of-type {\n",
       "        vertical-align: middle;\n",
       "    }\n",
       "\n",
       "    .dataframe tbody tr th {\n",
       "        vertical-align: top;\n",
       "    }\n",
       "\n",
       "    .dataframe thead tr th {\n",
       "        text-align: left;\n",
       "    }\n",
       "\n",
       "    .dataframe thead tr:last-of-type th {\n",
       "        text-align: right;\n",
       "    }\n",
       "</style>\n",
       "<table border=\"1\" class=\"dataframe\">\n",
       "  <thead>\n",
       "    <tr>\n",
       "      <th></th>\n",
       "      <th>contract_transaction_unique_key</th>\n",
       "      <th colspan=\"2\" halign=\"left\">total_dollars_obligated</th>\n",
       "    </tr>\n",
       "    <tr>\n",
       "      <th></th>\n",
       "      <th>count</th>\n",
       "      <th>mean</th>\n",
       "      <th>sum</th>\n",
       "    </tr>\n",
       "    <tr>\n",
       "      <th>recipient_country_name</th>\n",
       "      <th></th>\n",
       "      <th></th>\n",
       "      <th></th>\n",
       "    </tr>\n",
       "  </thead>\n",
       "  <tbody>\n",
       "    <tr>\n",
       "      <th>KOREA, SOUTH</th>\n",
       "      <td>849</td>\n",
       "      <td>187,629,373.7493987</td>\n",
       "      <td>24,954,706,708.67003</td>\n",
       "    </tr>\n",
       "    <tr>\n",
       "      <th>CANADA</th>\n",
       "      <td>750</td>\n",
       "      <td>41,384,234.02044443</td>\n",
       "      <td>3,724,581,061.8399987</td>\n",
       "    </tr>\n",
       "    <tr>\n",
       "      <th>JAPAN</th>\n",
       "      <td>3929</td>\n",
       "      <td>9,497,315.332606634</td>\n",
       "      <td>2,003,933,535.1799998</td>\n",
       "    </tr>\n",
       "    <tr>\n",
       "      <th>GERMANY</th>\n",
       "      <td>1786</td>\n",
       "      <td>5,603,594.8356621</td>\n",
       "      <td>1,227,187,269.01</td>\n",
       "    </tr>\n",
       "    <tr>\n",
       "      <th>SAUDI ARABIA</th>\n",
       "      <td>131</td>\n",
       "      <td>26,453,834.46342857</td>\n",
       "      <td>925,884,206.22</td>\n",
       "    </tr>\n",
       "    <tr>\n",
       "      <th>KUWAIT</th>\n",
       "      <td>407</td>\n",
       "      <td>9,077,053.94472973</td>\n",
       "      <td>671,701,991.9100001</td>\n",
       "    </tr>\n",
       "    <tr>\n",
       "      <th>RUSSIA</th>\n",
       "      <td>19</td>\n",
       "      <td>106,226,731.7</td>\n",
       "      <td>531,133,658.5</td>\n",
       "    </tr>\n",
       "    <tr>\n",
       "      <th>AFGHANISTAN</th>\n",
       "      <td>174</td>\n",
       "      <td>11,243,855.613157894</td>\n",
       "      <td>427,266,513.3</td>\n",
       "    </tr>\n",
       "    <tr>\n",
       "      <th>UNITED ARAB EMIRATES</th>\n",
       "      <td>264</td>\n",
       "      <td>2,869,666.6759259254</td>\n",
       "      <td>154,962,000.49999997</td>\n",
       "    </tr>\n",
       "    <tr>\n",
       "      <th>BELGIUM</th>\n",
       "      <td>64</td>\n",
       "      <td>12,847,437.746666668</td>\n",
       "      <td>154,169,252.96</td>\n",
       "    </tr>\n",
       "  </tbody>\n",
       "</table>\n",
       "</div>"
      ],
      "text/plain": [
       "                       contract_transaction_unique_key  \\\n",
       "                                                 count   \n",
       "recipient_country_name                                   \n",
       "KOREA, SOUTH                                       849   \n",
       "CANADA                                             750   \n",
       "JAPAN                                             3929   \n",
       "GERMANY                                           1786   \n",
       "SAUDI ARABIA                                       131   \n",
       "KUWAIT                                             407   \n",
       "RUSSIA                                              19   \n",
       "AFGHANISTAN                                        174   \n",
       "UNITED ARAB EMIRATES                               264   \n",
       "BELGIUM                                             64   \n",
       "\n",
       "                       total_dollars_obligated                        \n",
       "                                          mean                   sum  \n",
       "recipient_country_name                                                \n",
       "KOREA, SOUTH               187,629,373.7493987  24,954,706,708.67003  \n",
       "CANADA                     41,384,234.02044443 3,724,581,061.8399987  \n",
       "JAPAN                      9,497,315.332606634 2,003,933,535.1799998  \n",
       "GERMANY                      5,603,594.8356621      1,227,187,269.01  \n",
       "SAUDI ARABIA               26,453,834.46342857        925,884,206.22  \n",
       "KUWAIT                      9,077,053.94472973   671,701,991.9100001  \n",
       "RUSSIA                           106,226,731.7         531,133,658.5  \n",
       "AFGHANISTAN               11,243,855.613157894         427,266,513.3  \n",
       "UNITED ARAB EMIRATES      2,869,666.6759259254  154,962,000.49999997  \n",
       "BELGIUM                   12,847,437.746666668        154,169,252.96  "
      ]
     },
     "execution_count": 265,
     "metadata": {},
     "output_type": "execute_result"
    }
   ],
   "source": [
    "countries.sort_values(by=('total_dollars_obligated', 'sum'), ascending=False, inplace=True)\n",
    "countries[(countries.index!='UNITED STATES')].head(10)"
   ]
  },
  {
   "cell_type": "code",
   "execution_count": 266,
   "id": "c1cb237a",
   "metadata": {},
   "outputs": [
    {
     "data": {
      "text/plain": [
       "<AxesSubplot:xlabel='recipient_country_name'>"
      ]
     },
     "execution_count": 266,
     "metadata": {},
     "output_type": "execute_result"
    },
    {
     "data": {
      "image/png": "[encoded data removed]",
      "text/plain": [
       "<Figure size 432x288 with 1 Axes>"
      ]
     },
     "metadata": {
      "needs_background": "light"
     },
     "output_type": "display_data"
    }
   ],
   "source": [
    "countries[[('total_dollars_obligated', 'sum')]][countries.index!='UNITED STATES'].head(10).plot.bar()"
   ]
  },
  {
   "cell_type": "markdown",
   "id": "9098fa57",
   "metadata": {},
   "source": [
    "- Countries with the lowest **dollar value of contracts**:"
   ]
  },
  {
   "cell_type": "code",
   "execution_count": 267,
   "id": "f28d3de4",
   "metadata": {},
   "outputs": [
    {
     "data": {
      "text/html": [
       "<div>\n",
       "<style scoped>\n",
       "    .dataframe tbody tr th:only-of-type {\n",
       "        vertical-align: middle;\n",
       "    }\n",
       "\n",
       "    .dataframe tbody tr th {\n",
       "        vertical-align: top;\n",
       "    }\n",
       "\n",
       "    .dataframe thead tr th {\n",
       "        text-align: left;\n",
       "    }\n",
       "\n",
       "    .dataframe thead tr:last-of-type th {\n",
       "        text-align: right;\n",
       "    }\n",
       "</style>\n",
       "<table border=\"1\" class=\"dataframe\">\n",
       "  <thead>\n",
       "    <tr>\n",
       "      <th></th>\n",
       "      <th>contract_transaction_unique_key</th>\n",
       "      <th colspan=\"2\" halign=\"left\">total_dollars_obligated</th>\n",
       "    </tr>\n",
       "    <tr>\n",
       "      <th></th>\n",
       "      <th>count</th>\n",
       "      <th>mean</th>\n",
       "      <th>sum</th>\n",
       "    </tr>\n",
       "    <tr>\n",
       "      <th>recipient_country_name</th>\n",
       "      <th></th>\n",
       "      <th></th>\n",
       "      <th></th>\n",
       "    </tr>\n",
       "  </thead>\n",
       "  <tbody>\n",
       "    <tr>\n",
       "      <th>SWITZERLAND</th>\n",
       "      <td>33</td>\n",
       "      <td>3,831.40652173913</td>\n",
       "      <td>88,122.34999999999</td>\n",
       "    </tr>\n",
       "    <tr>\n",
       "      <th>CAMEROON</th>\n",
       "      <td>18</td>\n",
       "      <td>87,856.0</td>\n",
       "      <td>87,856.0</td>\n",
       "    </tr>\n",
       "    <tr>\n",
       "      <th>UKRAINE</th>\n",
       "      <td>7</td>\n",
       "      <td>37,854.405</td>\n",
       "      <td>75,708.81</td>\n",
       "    </tr>\n",
       "    <tr>\n",
       "      <th>TANZANIA</th>\n",
       "      <td>8</td>\n",
       "      <td>67,760.0</td>\n",
       "      <td>67,760.0</td>\n",
       "    </tr>\n",
       "    <tr>\n",
       "      <th>TAIWAN</th>\n",
       "      <td>2</td>\n",
       "      <td>33,483.43</td>\n",
       "      <td>33,483.43</td>\n",
       "    </tr>\n",
       "    <tr>\n",
       "      <th>PORTUGAL</th>\n",
       "      <td>20</td>\n",
       "      <td>20,722.82</td>\n",
       "      <td>20,722.82</td>\n",
       "    </tr>\n",
       "    <tr>\n",
       "      <th>DOMINICAN REPUBLIC</th>\n",
       "      <td>5</td>\n",
       "      <td>15,034.35</td>\n",
       "      <td>15,034.35</td>\n",
       "    </tr>\n",
       "    <tr>\n",
       "      <th>BOSNIA AND HERZEGOVINA</th>\n",
       "      <td>19</td>\n",
       "      <td>3,171.745</td>\n",
       "      <td>6,343.49</td>\n",
       "    </tr>\n",
       "    <tr>\n",
       "      <th>MOROCCO</th>\n",
       "      <td>4</td>\n",
       "      <td>1,500.0</td>\n",
       "      <td>1,500.0</td>\n",
       "    </tr>\n",
       "    <tr>\n",
       "      <th>KOSOVO</th>\n",
       "      <td>1</td>\n",
       "      <td>1,000.0</td>\n",
       "      <td>1,000.0</td>\n",
       "    </tr>\n",
       "  </tbody>\n",
       "</table>\n",
       "</div>"
      ],
      "text/plain": [
       "                       contract_transaction_unique_key  \\\n",
       "                                                 count   \n",
       "recipient_country_name                                   \n",
       "SWITZERLAND                                         33   \n",
       "CAMEROON                                            18   \n",
       "UKRAINE                                              7   \n",
       "TANZANIA                                             8   \n",
       "TAIWAN                                               2   \n",
       "PORTUGAL                                            20   \n",
       "DOMINICAN REPUBLIC                                   5   \n",
       "BOSNIA AND HERZEGOVINA                              19   \n",
       "MOROCCO                                              4   \n",
       "KOSOVO                                               1   \n",
       "\n",
       "                       total_dollars_obligated                     \n",
       "                                          mean                sum  \n",
       "recipient_country_name                                             \n",
       "SWITZERLAND                  3,831.40652173913 88,122.34999999999  \n",
       "CAMEROON                              87,856.0           87,856.0  \n",
       "UKRAINE                             37,854.405          75,708.81  \n",
       "TANZANIA                              67,760.0           67,760.0  \n",
       "TAIWAN                               33,483.43          33,483.43  \n",
       "PORTUGAL                             20,722.82          20,722.82  \n",
       "DOMINICAN REPUBLIC                   15,034.35          15,034.35  \n",
       "BOSNIA AND HERZEGOVINA               3,171.745           6,343.49  \n",
       "MOROCCO                                1,500.0            1,500.0  \n",
       "KOSOVO                                 1,000.0            1,000.0  "
      ]
     },
     "execution_count": 267,
     "metadata": {},
     "output_type": "execute_result"
    }
   ],
   "source": [
    "countries.sort_values(by=('total_dollars_obligated', 'sum'), ascending=False, inplace=True)\n",
    "countries[(countries.index!='UNITED STATES') \n",
    "          & (countries[('total_dollars_obligated', 'sum')]>0)].tail(10)"
   ]
  },
  {
   "cell_type": "markdown",
   "id": "4c7bd561",
   "metadata": {},
   "source": [
    "## Misc:\n",
    "\n",
    "Building the text normalizer method (exploratory)"
   ]
  },
  {
   "cell_type": "code",
   "execution_count": 23,
   "id": "739a765b",
   "metadata": {},
   "outputs": [
    {
     "data": {
      "text/plain": [
       "0                          TETRA TECH EM, INC.\n",
       "1    TRIDENT ENGINEERING AND PROCUREMENT, P.C.\n",
       "2                                 NORESCO, LLC\n",
       "3                           TECH SYSTEMS, INC.\n",
       "4                          NETIZEN CORPORATION\n",
       "Name: recipient_name, dtype: object"
      ]
     },
     "execution_count": 23,
     "metadata": {},
     "output_type": "execute_result"
    }
   ],
   "source": [
    "df_recipient['recipient_name'].head()"
   ]
  },
  {
   "cell_type": "code",
   "execution_count": 59,
   "id": "893ebacc",
   "metadata": {},
   "outputs": [
    {
     "data": {
      "text/plain": [
       "'tridentengineeringandprocurementpcconfederatedtribesofthecolvillereservationthetsysteminc'"
      ]
     },
     "execution_count": 59,
     "metadata": {},
     "output_type": "execute_result"
    }
   ],
   "source": [
    "str_ = 'TRIDENT ENGINEERING AND PROCUREMENT, P.C. CONFEDERATED TRIBES OF THE COLVILLE RESERVATION, THE T-SYSTEM, INC.'\n",
    "''.join(char for char in str_.strip().lower() if char.isalnum())"
   ]
  },
  {
   "cell_type": "code",
   "execution_count": 62,
   "id": "5966731b",
   "metadata": {},
   "outputs": [
    {
     "data": {
      "text/plain": [
       "'tridentengineeringandprocurementpcconfederatedtribescolvillereservationtsysteminc'"
      ]
     },
     "execution_count": 62,
     "metadata": {},
     "output_type": "execute_result"
    }
   ],
   "source": [
    "''.join(re.split(',|\\.|_|-|the | the| of| at| ', str_.lower().strip()))"
   ]
  },
  {
   "cell_type": "code",
   "execution_count": 291,
   "id": "bf141d51",
   "metadata": {},
   "outputs": [
    {
     "data": {
      "text/plain": [
       "('IBM', 'INTER BISNESS MANAGEMENT')"
      ]
     },
     "execution_count": 291,
     "metadata": {},
     "output_type": "execute_result"
    }
   ],
   "source": [
    "name = 'Inter Bisness Management '\n",
    "normalize_txt_abbreviated(name), normalize_txt_spaced(name)"
   ]
  },
  {
   "cell_type": "code",
   "execution_count": null,
   "id": "9e9ce441",
   "metadata": {},
   "outputs": [],
   "source": []
  }
 ],
 "metadata": {
  "kernelspec": {
   "display_name": "Python 3 (ipykernel)",
   "language": "python",
   "name": "python3"
  },
  "language_info": {
   "codemirror_mode": {
    "name": "ipython",
    "version": 3
   },
   "file_extension": ".py",
   "mimetype": "text/x-python",
   "name": "python",
   "nbconvert_exporter": "python",
   "pygments_lexer": "ipython3",
   "version": "3.8.3"
  }
 },
 "nbformat": 4,
 "nbformat_minor": 5
}
